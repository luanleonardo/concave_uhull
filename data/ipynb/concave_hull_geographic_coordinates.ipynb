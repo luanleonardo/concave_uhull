{
 "cells": [
  {
   "cell_type": "code",
   "execution_count": 1,
   "id": "e4c116fa-c14f-4d8d-8d95-ff6b0764a3fd",
   "metadata": {
    "tags": []
   },
   "outputs": [],
   "source": [
    "import json\n",
    "import time\n",
    "\n",
    "import folium\n",
    "import numpy as np\n",
    "\n",
    "from concave_uhull.alpha_shape import get_alpha_shape_polygons"
   ]
  },
  {
   "cell_type": "code",
   "execution_count": 2,
   "id": "4ce4904e-2827-4bd6-b194-f949cbe6b7f2",
   "metadata": {
    "tags": []
   },
   "outputs": [],
   "source": [
    "# loggibud dataset download: https://loggibud.s3.amazonaws.com/dataset.zip\n",
    "file_name_path_list = [\n",
    "    (\n",
    "        \"Brasília\",\n",
    "        \"data/maps/points_brasilia_brazil.html\",\n",
    "        \"data/loggibud/delivery-instances-1.0/train/df/df-0.json\",\n",
    "    ),\n",
    "    (\n",
    "        \"Pará\",\n",
    "        \"data/maps/points_para_brazil.html\",\n",
    "        \"data/loggibud/delivery-instances-1.0/train/pa/pa-0.json\",\n",
    "    ),\n",
    "    (\n",
    "        \"Rio de Janeiro\",\n",
    "        \"data/maps/points_rio_de_janeiro_brazil.html\",\n",
    "        \"data/loggibud/delivery-instances-1.0/train/rj/rj-0.json\",\n",
    "    ),\n",
    "]"
   ]
  },
  {
   "cell_type": "code",
   "execution_count": 3,
   "id": "f4fc4cfa-65de-4eb4-84a2-e98ebdcb3d8b",
   "metadata": {
    "tags": []
   },
   "outputs": [
    {
     "name": "stdout",
     "output_type": "stream",
     "text": [
      "\n",
      "*** Location = Brasília ****\n"
     ]
    },
    {
     "ename": "FileNotFoundError",
     "evalue": "[Errno 2] No such file or directory: 'data/loggibud/delivery-instances-1.0/train/df/df-0.json'",
     "output_type": "error",
     "traceback": [
      "\u001B[0;31m---------------------------------------------------------------------------\u001B[0m",
      "\u001B[0;31mFileNotFoundError\u001B[0m                         Traceback (most recent call last)",
      "Cell \u001B[0;32mIn[3], line 23\u001B[0m\n\u001B[1;32m     21\u001B[0m \u001B[38;5;66;03m# Step 1: load json file\u001B[39;00m\n\u001B[1;32m     22\u001B[0m start_time \u001B[38;5;241m=\u001B[39m time\u001B[38;5;241m.\u001B[39mtime()\n\u001B[0;32m---> 23\u001B[0m \u001B[38;5;28;01mwith\u001B[39;00m \u001B[38;5;28;43mopen\u001B[39;49m\u001B[43m(\u001B[49m\u001B[43mfile_path\u001B[49m\u001B[43m)\u001B[49m \u001B[38;5;28;01mas\u001B[39;00m file:\n\u001B[1;32m     24\u001B[0m     data \u001B[38;5;241m=\u001B[39m json\u001B[38;5;241m.\u001B[39mload(file)\n\u001B[1;32m     25\u001B[0m \u001B[38;5;28mprint\u001B[39m(\n\u001B[1;32m     26\u001B[0m     \u001B[38;5;124mf\u001B[39m\u001B[38;5;124m\"\u001B[39m\u001B[38;5;124mStep 1: Loading json file for \u001B[39m\u001B[38;5;132;01m{\u001B[39;00mlocation\u001B[38;5;132;01m}\u001B[39;00m\u001B[38;5;124m took \u001B[39m\u001B[38;5;124m\"\u001B[39m\n\u001B[1;32m     27\u001B[0m     \u001B[38;5;124mf\u001B[39m\u001B[38;5;124m\"\u001B[39m\u001B[38;5;132;01m{\u001B[39;00mtime\u001B[38;5;241m.\u001B[39mtime()\u001B[38;5;250m \u001B[39m\u001B[38;5;241m-\u001B[39m\u001B[38;5;250m \u001B[39mstart_time\u001B[38;5;132;01m:\u001B[39;00m\u001B[38;5;124m.3f\u001B[39m\u001B[38;5;132;01m}\u001B[39;00m\u001B[38;5;124m seconds\u001B[39m\u001B[38;5;124m\"\u001B[39m\n\u001B[1;32m     28\u001B[0m )\n",
      "File \u001B[0;32m~/Documents/python_projects/concave_uhull/venv/lib/python3.10/site-packages/IPython/core/interactiveshell.py:282\u001B[0m, in \u001B[0;36m_modified_open\u001B[0;34m(file, *args, **kwargs)\u001B[0m\n\u001B[1;32m    275\u001B[0m \u001B[38;5;28;01mif\u001B[39;00m file \u001B[38;5;129;01min\u001B[39;00m {\u001B[38;5;241m0\u001B[39m, \u001B[38;5;241m1\u001B[39m, \u001B[38;5;241m2\u001B[39m}:\n\u001B[1;32m    276\u001B[0m     \u001B[38;5;28;01mraise\u001B[39;00m \u001B[38;5;167;01mValueError\u001B[39;00m(\n\u001B[1;32m    277\u001B[0m         \u001B[38;5;124mf\u001B[39m\u001B[38;5;124m\"\u001B[39m\u001B[38;5;124mIPython won\u001B[39m\u001B[38;5;124m'\u001B[39m\u001B[38;5;124mt let you open fd=\u001B[39m\u001B[38;5;132;01m{\u001B[39;00mfile\u001B[38;5;132;01m}\u001B[39;00m\u001B[38;5;124m by default \u001B[39m\u001B[38;5;124m\"\u001B[39m\n\u001B[1;32m    278\u001B[0m         \u001B[38;5;124m\"\u001B[39m\u001B[38;5;124mas it is likely to crash IPython. If you know what you are doing, \u001B[39m\u001B[38;5;124m\"\u001B[39m\n\u001B[1;32m    279\u001B[0m         \u001B[38;5;124m\"\u001B[39m\u001B[38;5;124myou can use builtins\u001B[39m\u001B[38;5;124m'\u001B[39m\u001B[38;5;124m open.\u001B[39m\u001B[38;5;124m\"\u001B[39m\n\u001B[1;32m    280\u001B[0m     )\n\u001B[0;32m--> 282\u001B[0m \u001B[38;5;28;01mreturn\u001B[39;00m \u001B[43mio_open\u001B[49m\u001B[43m(\u001B[49m\u001B[43mfile\u001B[49m\u001B[43m,\u001B[49m\u001B[43m \u001B[49m\u001B[38;5;241;43m*\u001B[39;49m\u001B[43margs\u001B[49m\u001B[43m,\u001B[49m\u001B[43m \u001B[49m\u001B[38;5;241;43m*\u001B[39;49m\u001B[38;5;241;43m*\u001B[39;49m\u001B[43mkwargs\u001B[49m\u001B[43m)\u001B[49m\n",
      "\u001B[0;31mFileNotFoundError\u001B[0m: [Errno 2] No such file or directory: 'data/loggibud/delivery-instances-1.0/train/df/df-0.json'"
     ]
    }
   ],
   "source": [
    "MAP_COLORS = (\n",
    "    \"red\",\n",
    "    \"orange\",\n",
    "    \"green\",\n",
    "    \"purple\",\n",
    "    \"pink\",\n",
    "    \"darkblue\",\n",
    "    \"beige\",\n",
    "    \"gray\",\n",
    "    \"lightgreen\",\n",
    "    \"lightblue\",\n",
    "    \"lightgray\",\n",
    "    \"cadetblue\",\n",
    "    \"black\",\n",
    ")\n",
    "\n",
    "for location, file_name, file_path in file_name_path_list:\n",
    "    # Print location\n",
    "    print(f\"\\n*** Location = {location} ****\")\n",
    "\n",
    "    # Step 1: load json file\n",
    "    start_time = time.time()\n",
    "    with open(file_path) as file:\n",
    "        data = json.load(file)\n",
    "    print(\n",
    "        f\"Step 1: Loading json file for {location} took \"\n",
    "        f\"{time.time() - start_time:.3f} seconds\"\n",
    "    )\n",
    "\n",
    "    # Step 2: Create map and draw the points on the map\n",
    "    start_time = time.time()\n",
    "    locations = np.array(\n",
    "        [\n",
    "            (delivery[\"point\"][\"lat\"], delivery[\"point\"][\"lng\"])\n",
    "            for delivery in data[\"deliveries\"]\n",
    "        ]\n",
    "    )\n",
    "    region_map = folium.Map(\n",
    "        location=locations.mean(axis=0), zoom_start=11, tiles=\"cartodbpositron\"\n",
    "    )\n",
    "    for lat, lng in locations:\n",
    "        folium.Circle(\n",
    "            location=(lat, lng),\n",
    "            radius=20,\n",
    "            fill=True,\n",
    "            color=\"blue\",\n",
    "            popup=f\"location = ({lat}, {lng})\",\n",
    "        ).add_to(region_map)\n",
    "    print(\n",
    "        f\"Step 2: Create map and draw the points on the map for {location} \"\n",
    "        f\"took {time.time() - start_time:.3f} seconds.\"\n",
    "    )\n",
    "\n",
    "    # Step 3: Calculate the concave hull for the N location points.\n",
    "    start_time = time.time()\n",
    "    polygons = get_alpha_shape_polygons(\n",
    "        coordinates_points=[(lng, lat) for lat, lng in locations],\n",
    "        alpha=6 * 1.5,\n",
    "    )\n",
    "    print(\n",
    "        f\"Step 3: Calculating the concave hull for the {locations.shape[0]} points \"\n",
    "        f\"of {location} took {time.time() - start_time:.3f} seconds.\"\n",
    "    )\n",
    "\n",
    "    # Step 4: Draw the calculated polygons on the map.\n",
    "    start_time = time.time()\n",
    "    for i, polygon in enumerate(polygons):\n",
    "        folium.Polygon(\n",
    "            locations=[(lat, lng) for lng, lat in polygon],\n",
    "            color=MAP_COLORS[i % len(MAP_COLORS)],\n",
    "        ).add_to(region_map)\n",
    "    print(\n",
    "        f\"Step 4: Drawing the {len(polygons)} calculated polygons on the map took {time.time() - start_time:.3f} seconds\"\n",
    "    )\n",
    "\n",
    "    # Step 5: Save map as html file\n",
    "    start_time = time.time()\n",
    "    region_map.save(file_name)\n",
    "    print(\n",
    "        f\"Step 5: Saving map as html file took {time.time() - start_time:.3f}  seconds\"\n",
    "    )"
   ]
  }
 ],
 "metadata": {
  "kernelspec": {
   "display_name": "Python 3 (ipykernel)",
   "language": "python",
   "name": "python3"
  },
  "language_info": {
   "codemirror_mode": {
    "name": "ipython",
    "version": 3
   },
   "file_extension": ".py",
   "mimetype": "text/x-python",
   "name": "python",
   "nbconvert_exporter": "python",
   "pygments_lexer": "ipython3",
   "version": "3.10.6"
  }
 },
 "nbformat": 4,
 "nbformat_minor": 5
}
