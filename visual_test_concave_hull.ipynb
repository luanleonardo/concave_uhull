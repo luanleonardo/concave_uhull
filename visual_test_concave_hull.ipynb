{
 "cells": [
  {
   "cell_type": "code",
   "execution_count": 1,
   "id": "e4c116fa-c14f-4d8d-8d95-ff6b0764a3fd",
   "metadata": {
    "tags": []
   },
   "outputs": [],
   "source": [
    "import json\n",
    "import time\n",
    "\n",
    "import folium\n",
    "import numpy as np\n",
    "\n",
    "from concave_uhull.alpha_shape import get_alpha_shape_polygons"
   ]
  },
  {
   "cell_type": "code",
   "execution_count": 2,
   "id": "4ce4904e-2827-4bd6-b194-f949cbe6b7f2",
   "metadata": {
    "tags": []
   },
   "outputs": [],
   "source": [
    "# loggibud dataset download: https://loggibud.s3.amazonaws.com/dataset.zip\n",
    "file_name_path_list = [\n",
    "    (\n",
    "        \"Brasília, Brazil\",\n",
    "        \"data/maps/points_brasilia_brazil.html\",\n",
    "        \"data/loggibud/delivery-instances-1.0/train/df/df-0.json\",\n",
    "    ),\n",
    "    (\n",
    "        \"Pará, Brazil\",\n",
    "        \"data/maps/points_para_brazil.html\",\n",
    "        \"data/loggibud/delivery-instances-1.0/train/pa/pa-0.json\",\n",
    "    ),\n",
    "    (\n",
    "        \"Rio de Janeiro, Brazil\",\n",
    "        \"data/maps/points_rio_de_janeiro_brazil.html\",\n",
    "        \"data/loggibud/delivery-instances-1.0/train/rj/rj-0.json\",\n",
    "    ),\n",
    "]"
   ]
  },
  {
   "cell_type": "code",
   "execution_count": 3,
   "id": "f4fc4cfa-65de-4eb4-84a2-e98ebdcb3d8b",
   "metadata": {
    "tags": []
   },
   "outputs": [
    {
     "name": "stdout",
     "output_type": "stream",
     "text": [
      "\n",
      "*** Location = Brasília, Brazil ****\n",
      "Step 1: Loading json file for Brasília, Brazil took 0.0342 seconds\n",
      "Step 2: Create map and draw the points on the map for Brasília, Brazil took 0.5888 seconds.\n",
      "Step 3: Calculating the concave hull for the 10436 points of the Brasília, Brazil location took 0.6118 seconds.\n",
      "Step 4: Drawing the calculated polygons on the map took 0.0004 seconds\n",
      "Step 5: Saving map as html file took 7.0442  seconds\n",
      "\n",
      "*** Location = Pará, Brazil ****\n",
      "Step 1: Loading json file for Pará, Brazil took 0.0081 seconds\n",
      "Step 2: Create map and draw the points on the map for Pará, Brazil took 0.3915 seconds.\n",
      "Step 3: Calculating the concave hull for the 4238 points of the Pará, Brazil location took 0.2417 seconds.\n",
      "Step 4: Drawing the calculated polygons on the map took 0.0003 seconds\n",
      "Step 5: Saving map as html file took 2.9347  seconds\n",
      "\n",
      "*** Location = Rio de Janeiro, Brazil ****\n",
      "Step 1: Loading json file for Rio de Janeiro, Brazil took 0.0377 seconds\n",
      "Step 2: Create map and draw the points on the map for Rio de Janeiro, Brazil took 1.5892 seconds.\n",
      "Step 3: Calculating the concave hull for the 26833 points of the Rio de Janeiro, Brazil location took 1.5883 seconds.\n",
      "Step 4: Drawing the calculated polygons on the map took 0.0006 seconds\n",
      "Step 5: Saving map as html file took 18.0186  seconds\n"
     ]
    }
   ],
   "source": [
    "for location, file_name, file_path in file_name_path_list:\n",
    "    # Print location\n",
    "    print(f\"\\n*** Location = {location} ****\")\n",
    "\n",
    "    # Step 1: load json file\n",
    "    start_time = time.time()\n",
    "    with open(file_path) as file:\n",
    "        data = json.load(file)\n",
    "    print(\n",
    "        f\"Step 1: Loading json file for {location} took \"\n",
    "        f\"{time.time() - start_time:.4f} seconds\"\n",
    "    )\n",
    "\n",
    "    # Step 2: Create map and draw the points on the map\n",
    "    start_time = time.time()\n",
    "    locations = np.array(\n",
    "        [\n",
    "            (delivery[\"point\"][\"lat\"], delivery[\"point\"][\"lng\"])\n",
    "            for delivery in data[\"deliveries\"]\n",
    "        ]\n",
    "    )\n",
    "    region_map = folium.Map(\n",
    "        location=locations.mean(axis=0), zoom_start=11, tiles=\"cartodbpositron\"\n",
    "    )\n",
    "    for lat, lng in locations:\n",
    "        folium.Circle(\n",
    "            location=(lat, lng),\n",
    "            radius=20,\n",
    "            fill=True,\n",
    "            color=\"blue\",\n",
    "            popup=f\"location = ({lat}, {lng})\",\n",
    "        ).add_to(region_map)\n",
    "    print(\n",
    "        f\"Step 2: Create map and draw the points on the map for {location} \"\n",
    "        f\"took {time.time() - start_time:.4f} seconds.\"\n",
    "    )\n",
    "\n",
    "    # Step 3: Calculate the concave hull for the N location points.\n",
    "    start_time = time.time()\n",
    "    polygons = get_alpha_shape_polygons(\n",
    "        coordinates_points=[(lng, lat) for lat, lng in locations], alpha=10\n",
    "    )\n",
    "    print(\n",
    "        f\"Step 3: Calculating the concave hull for the {locations.shape[0]} points \"\n",
    "        f\"of the {location} location took {time.time() - start_time:.4f} seconds.\"\n",
    "    )\n",
    "\n",
    "    # Step 4: Draw the calculated polygons on the map.\n",
    "    start_time = time.time()\n",
    "    folium.Polygon(\n",
    "        locations=[\n",
    "            [(lat, lng) for lng, lat in polygon] for polygon in polygons\n",
    "        ],\n",
    "        color=\"red\",\n",
    "    ).add_to(region_map)\n",
    "    print(\n",
    "        f\"Step 4: Drawing the calculated polygons on the map took {time.time() - start_time:.4f} seconds\"\n",
    "    )\n",
    "\n",
    "    # Step 5: Save map as html file\n",
    "    start_time = time.time()\n",
    "    region_map.save(file_name)\n",
    "    print(\n",
    "        f\"Step 5: Saving map as html file took {time.time() - start_time:.4f}  seconds\"\n",
    "    )"
   ]
  }
 ],
 "metadata": {
  "kernelspec": {
   "display_name": "Python 3 (ipykernel)",
   "language": "python",
   "name": "python3"
  },
  "language_info": {
   "codemirror_mode": {
    "name": "ipython",
    "version": 3
   },
   "file_extension": ".py",
   "mimetype": "text/x-python",
   "name": "python",
   "nbconvert_exporter": "python",
   "pygments_lexer": "ipython3",
   "version": "3.10.6"
  }
 },
 "nbformat": 4,
 "nbformat_minor": 5
}
